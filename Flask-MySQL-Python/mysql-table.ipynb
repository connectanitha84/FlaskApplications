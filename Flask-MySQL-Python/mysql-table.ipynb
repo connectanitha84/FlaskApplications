{
 "cells": [
  {
   "cell_type": "code",
   "execution_count": 1,
   "id": "8528e32a",
   "metadata": {},
   "outputs": [
    {
     "name": "stdout",
     "output_type": "stream",
     "text": [
      "Collecting flask-mysql\n",
      "  Downloading Flask_MySQL-1.5.2-py2.py3-none-any.whl (3.8 kB)\n",
      "Requirement already satisfied: Flask in c:\\users\\anuaq\\anaconda3\\lib\\site-packages (from flask-mysql) (1.1.2)\n",
      "Collecting PyMySQL\n",
      "  Downloading PyMySQL-1.0.2-py3-none-any.whl (43 kB)\n",
      "Requirement already satisfied: Werkzeug>=0.15 in c:\\users\\anuaq\\anaconda3\\lib\\site-packages (from Flask->flask-mysql) (2.0.2)\n",
      "Requirement already satisfied: itsdangerous>=0.24 in c:\\users\\anuaq\\anaconda3\\lib\\site-packages (from Flask->flask-mysql) (2.0.1)\n",
      "Requirement already satisfied: Jinja2>=2.10.1 in c:\\users\\anuaq\\anaconda3\\lib\\site-packages (from Flask->flask-mysql) (2.11.3)\n",
      "Requirement already satisfied: click>=5.1 in c:\\users\\anuaq\\anaconda3\\lib\\site-packages (from Flask->flask-mysql) (8.0.3)\n",
      "Requirement already satisfied: colorama in c:\\users\\anuaq\\anaconda3\\lib\\site-packages (from click>=5.1->Flask->flask-mysql) (0.4.4)\n",
      "Requirement already satisfied: MarkupSafe>=0.23 in c:\\users\\anuaq\\anaconda3\\lib\\site-packages (from Jinja2>=2.10.1->Flask->flask-mysql) (1.1.1)\n",
      "Installing collected packages: PyMySQL, flask-mysql\n",
      "Successfully installed PyMySQL-1.0.2 flask-mysql-1.5.2\n",
      "Note: you may need to restart the kernel to use updated packages.\n"
     ]
    }
   ],
   "source": [
    "pip install flask-mysql\n"
   ]
  },
  {
   "cell_type": "code",
   "execution_count": 1,
   "id": "694321ab",
   "metadata": {},
   "outputs": [
    {
     "name": "stdout",
     "output_type": "stream",
     "text": [
      "Collecting Flask-MySQLdb\n",
      "  Downloading Flask-MySQLdb-1.0.1.tar.gz (4.3 kB)\n",
      "Requirement already satisfied: Flask>=0.12.4 in c:\\users\\anuaq\\anaconda3\\lib\\site-packages (from Flask-MySQLdb) (1.1.2)\n",
      "Collecting mysqlclient>=1.3.7\n",
      "  Downloading mysqlclient-2.1.0-cp39-cp39-win_amd64.whl (180 kB)\n",
      "Requirement already satisfied: Jinja2>=2.10.1 in c:\\users\\anuaq\\anaconda3\\lib\\site-packages (from Flask>=0.12.4->Flask-MySQLdb) (2.11.3)\n",
      "Requirement already satisfied: Werkzeug>=0.15 in c:\\users\\anuaq\\anaconda3\\lib\\site-packages (from Flask>=0.12.4->Flask-MySQLdb) (2.0.2)\n",
      "Requirement already satisfied: click>=5.1 in c:\\users\\anuaq\\anaconda3\\lib\\site-packages (from Flask>=0.12.4->Flask-MySQLdb) (8.0.3)\n",
      "Requirement already satisfied: itsdangerous>=0.24 in c:\\users\\anuaq\\anaconda3\\lib\\site-packages (from Flask>=0.12.4->Flask-MySQLdb) (2.0.1)\n",
      "Requirement already satisfied: colorama in c:\\users\\anuaq\\anaconda3\\lib\\site-packages (from click>=5.1->Flask>=0.12.4->Flask-MySQLdb) (0.4.4)\n",
      "Requirement already satisfied: MarkupSafe>=0.23 in c:\\users\\anuaq\\anaconda3\\lib\\site-packages (from Jinja2>=2.10.1->Flask>=0.12.4->Flask-MySQLdb) (1.1.1)\n",
      "Building wheels for collected packages: Flask-MySQLdb\n",
      "  Building wheel for Flask-MySQLdb (setup.py): started\n",
      "  Building wheel for Flask-MySQLdb (setup.py): finished with status 'done'\n",
      "  Created wheel for Flask-MySQLdb: filename=Flask_MySQLdb-1.0.1-py3-none-any.whl size=4674 sha256=1b57b0edb6dfda72730c1f39847892220cc76e0e2ad33890f770432f43daacba\n",
      "  Stored in directory: c:\\users\\anuaq\\appdata\\local\\pip\\cache\\wheels\\48\\ba\\f7\\32a9b364c18e9e479d5dd05305109e7a72d85d8e29c02a10ea\n",
      "Successfully built Flask-MySQLdb\n",
      "Installing collected packages: mysqlclient, Flask-MySQLdb\n",
      "Successfully installed Flask-MySQLdb-1.0.1 mysqlclient-2.1.0\n",
      "Note: you may need to restart the kernel to use updated packages.\n"
     ]
    }
   ],
   "source": [
    "pip install Flask-MySQLdb"
   ]
  },
  {
   "cell_type": "code",
   "execution_count": null,
   "id": "1afec895",
   "metadata": {},
   "outputs": [],
   "source": []
  }
 ],
 "metadata": {
  "kernelspec": {
   "display_name": "Python 3 (ipykernel)",
   "language": "python",
   "name": "python3"
  },
  "language_info": {
   "codemirror_mode": {
    "name": "ipython",
    "version": 3
   },
   "file_extension": ".py",
   "mimetype": "text/x-python",
   "name": "python",
   "nbconvert_exporter": "python",
   "pygments_lexer": "ipython3",
   "version": "3.9.7"
  }
 },
 "nbformat": 4,
 "nbformat_minor": 5
}
