{
 "cells": [
  {
   "cell_type": "code",
   "execution_count": 1,
   "id": "86253651",
   "metadata": {},
   "outputs": [],
   "source": [
    "# pip install mysql-connector-python"
   ]
  },
  {
   "cell_type": "code",
   "execution_count": 1,
   "id": "f01fb437",
   "metadata": {},
   "outputs": [],
   "source": [
    "import mysql.connector\n"
   ]
  },
  {
   "cell_type": "code",
   "execution_count": 2,
   "id": "8be1f811",
   "metadata": {},
   "outputs": [],
   "source": [
    "mydb = mysql.connector.connect(\n",
    "  host=\"localhost\",\n",
    "  user=\"root\",\n",
    "  password=\"Mysql@2022\"\n",
    ")"
   ]
  },
  {
   "cell_type": "code",
   "execution_count": 3,
   "id": "33143427",
   "metadata": {},
   "outputs": [
    {
     "name": "stdout",
     "output_type": "stream",
     "text": [
      "<mysql.connector.connection_cext.CMySQLConnection object at 0x0000017831C72940>\n"
     ]
    }
   ],
   "source": [
    "print(mydb)"
   ]
  },
  {
   "cell_type": "code",
   "execution_count": 4,
   "id": "a919d30f",
   "metadata": {},
   "outputs": [],
   "source": [
    "mycursor = mydb.cursor(buffered=True)\n",
    "\n",
    "# mycursor.execute(\"CREATE DATABASE testDatabase\")"
   ]
  },
  {
   "cell_type": "code",
   "execution_count": 11,
   "id": "28c73500",
   "metadata": {
    "scrolled": true
   },
   "outputs": [
    {
     "name": "stdout",
     "output_type": "stream",
     "text": [
      "('information_schema',)\n",
      "('mysql',)\n",
      "('performance_schema',)\n",
      "('sakila',)\n",
      "('sys',)\n",
      "('testdatabase',)\n",
      "('university',)\n",
      "('world',)\n"
     ]
    }
   ],
   "source": [
    "mycursor.execute(\"SHOW DATABASES\")\n",
    "\n",
    "for x in mycursor:\n",
    "  print(x)"
   ]
  },
  {
   "cell_type": "code",
   "execution_count": 12,
   "id": "4eaec39a",
   "metadata": {},
   "outputs": [],
   "source": [
    "mycursor.execute(\"CREATE database userdet\")"
   ]
  },
  {
   "cell_type": "code",
   "execution_count": 17,
   "id": "e01db487",
   "metadata": {},
   "outputs": [],
   "source": [
    "mycursor.execute(\"USE userdet\")"
   ]
  },
  {
   "cell_type": "code",
   "execution_count": 18,
   "id": "40ff945b",
   "metadata": {},
   "outputs": [],
   "source": [
    "\n",
    "mycursor.execute(\"CREATE TABLE info_table (firstname varchar(255),lastname varchar(255),password varchar(255),favcar varchar(20))\")\n",
    "\n"
   ]
  },
  {
   "cell_type": "code",
   "execution_count": 20,
   "id": "ca38bf80",
   "metadata": {},
   "outputs": [
    {
     "name": "stdout",
     "output_type": "stream",
     "text": [
      "('info_table',)\n"
     ]
    }
   ],
   "source": [
    "mycursor.execute(\"SHOW TABLES\")\n",
    "\n",
    "for x in mycursor:\n",
    "  print(x)"
   ]
  },
  {
   "cell_type": "code",
   "execution_count": 10,
   "id": "44d7f99b",
   "metadata": {},
   "outputs": [],
   "source": [
    "mycursor.execute(\"drop database userdet\")"
   ]
  },
  {
   "cell_type": "markdown",
   "id": "1c925723",
   "metadata": {},
   "source": [
    "### FOR EXERCISE"
   ]
  },
  {
   "cell_type": "code",
   "execution_count": 7,
   "id": "71a84dfd",
   "metadata": {},
   "outputs": [],
   "source": [
    "mycursor.execute(\"use testdatabase\")\n"
   ]
  },
  {
   "cell_type": "code",
   "execution_count": 8,
   "id": "80f8425f",
   "metadata": {},
   "outputs": [],
   "source": [
    "# mycursor.execute(\"CREATE TABLE customers(name VARCHAR(255), address VARCHAR(255))\")\n"
   ]
  },
  {
   "cell_type": "code",
   "execution_count": 9,
   "id": "d77a1ac1",
   "metadata": {},
   "outputs": [
    {
     "name": "stdout",
     "output_type": "stream",
     "text": [
      "('customers',)\n"
     ]
    }
   ],
   "source": [
    "mycursor.execute(\"SHOW TABLES\")\n",
    "\n",
    "for x in mycursor:\n",
    "  print(x)"
   ]
  },
  {
   "cell_type": "code",
   "execution_count": 10,
   "id": "b6b827ba",
   "metadata": {},
   "outputs": [],
   "source": [
    "\n",
    "# mycursor.execute(\"CREATE TABLE customers (id INT AUTO_INCREMENT PRIMARY KEY, name VARCHAR(255), address VARCHAR(255))\")"
   ]
  },
  {
   "cell_type": "code",
   "execution_count": 11,
   "id": "09d42dbe",
   "metadata": {},
   "outputs": [],
   "source": [
    "# mycursor.execute(\"ALTER TABLE customers ADD COLUMN id INT AUTO_INCREMENT PRIMARY KEY\")\n"
   ]
  },
  {
   "cell_type": "code",
   "execution_count": 12,
   "id": "4b27195f",
   "metadata": {},
   "outputs": [
    {
     "name": "stdout",
     "output_type": "stream",
     "text": [
      "1 record inserted.\n"
     ]
    }
   ],
   "source": [
    "# INSERT\n",
    "sql = \"INSERT INTO customers (name, address) VALUES (%s, %s)\"\n",
    "val = (\"John\", \"Highway 21\")\n",
    "mycursor.execute(sql, val)\n",
    "\n",
    "mydb.commit()\n",
    "\n",
    "print(mycursor.rowcount, \"record inserted.\")"
   ]
  },
  {
   "cell_type": "code",
   "execution_count": 13,
   "id": "3d864137",
   "metadata": {},
   "outputs": [
    {
     "name": "stdout",
     "output_type": "stream",
     "text": [
      "13 was inserted.\n"
     ]
    }
   ],
   "source": [
    "# INSERT MULTIPLE ROWS\n",
    "\n",
    "\n",
    "sql = \"INSERT INTO customers (name, address) VALUES (%s, %s)\"\n",
    "val = [\n",
    "  ('Peter', 'Lowstreet 4'),\n",
    "  ('Amy', 'Apple st 652'),\n",
    "  ('Hannah', 'Mountain 21'),\n",
    "  ('Michael', 'Valley 345'),\n",
    "  ('Sandy', 'Ocean blvd 2'),\n",
    "  ('Betty', 'Green Grass 1'),\n",
    "  ('Richard', 'Sky st 331'),\n",
    "  ('Susan', 'One way 98'),\n",
    "  ('Vicky', 'Yellow Garden 2'),\n",
    "  ('Ben', 'Park Lane 38'),\n",
    "  ('William', 'Central st 954'),\n",
    "  ('Chuck', 'Main Road 989'),\n",
    "  ('Viola', 'Sideway 1633')\n",
    "]\n",
    "\n",
    "mycursor.executemany(sql, val)\n",
    "\n",
    "mydb.commit()\n",
    "\n",
    "print(mycursor.rowcount, \"was inserted.\")"
   ]
  },
  {
   "cell_type": "code",
   "execution_count": 14,
   "id": "ac86b617",
   "metadata": {},
   "outputs": [],
   "source": [
    "# You can get the id of the row you just inserted by asking the cursor object.\n",
    "\n",
    "# Note: If you insert more than one row, the id of the last inserted row is returned."
   ]
  },
  {
   "cell_type": "code",
   "execution_count": 15,
   "id": "e8fbf337",
   "metadata": {},
   "outputs": [
    {
     "name": "stdout",
     "output_type": "stream",
     "text": [
      "('John', 'Highway 21')\n",
      "('Peter', 'Lowstreet 4')\n",
      "('Amy', 'Apple st 652')\n",
      "('Hannah', 'Mountain 21')\n",
      "('Michael', 'Valley 345')\n",
      "('Sandy', 'Ocean blvd 2')\n",
      "('Betty', 'Green Grass 1')\n",
      "('Richard', 'Sky st 331')\n",
      "('Susan', 'One way 98')\n",
      "('Vicky', 'Yellow Garden 2')\n",
      "('Ben', 'Park Lane 38')\n",
      "('William', 'Central st 954')\n",
      "('Chuck', 'Main Road 989')\n",
      "('Viola', 'Sideway 1633')\n",
      "('John', 'Highway 21')\n",
      "('Peter', 'Lowstreet 4')\n",
      "('Amy', 'Apple st 652')\n",
      "('Hannah', 'Mountain 21')\n",
      "('Michael', 'Valley 345')\n",
      "('Sandy', 'Ocean blvd 2')\n",
      "('Betty', 'Green Grass 1')\n",
      "('Richard', 'Sky st 331')\n",
      "('Susan', 'One way 98')\n",
      "('Vicky', 'Yellow Garden 2')\n",
      "('Ben', 'Park Lane 38')\n",
      "('William', 'Central st 954')\n",
      "('Chuck', 'Main Road 989')\n",
      "('Viola', 'Sideway 1633')\n"
     ]
    }
   ],
   "source": [
    "mycursor.execute(\"SELECT * FROM customers\")\n",
    "\n",
    "myresult = mycursor.fetchall()\n",
    "\n",
    "for x in myresult:\n",
    "  print(x)\n",
    "# We use the fetchall() method, which fetches all rows from the last executed statement."
   ]
  },
  {
   "cell_type": "code",
   "execution_count": 16,
   "id": "3c17ba0b",
   "metadata": {},
   "outputs": [
    {
     "name": "stdout",
     "output_type": "stream",
     "text": [
      "('John',)\n",
      "('Peter',)\n",
      "('Amy',)\n",
      "('Hannah',)\n",
      "('Michael',)\n",
      "('Sandy',)\n",
      "('Betty',)\n",
      "('Richard',)\n",
      "('Susan',)\n",
      "('Vicky',)\n",
      "('Ben',)\n",
      "('William',)\n",
      "('Chuck',)\n",
      "('Viola',)\n",
      "('John',)\n",
      "('Peter',)\n",
      "('Amy',)\n",
      "('Hannah',)\n",
      "('Michael',)\n",
      "('Sandy',)\n",
      "('Betty',)\n",
      "('Richard',)\n",
      "('Susan',)\n",
      "('Vicky',)\n",
      "('Ben',)\n",
      "('William',)\n",
      "('Chuck',)\n",
      "('Viola',)\n"
     ]
    }
   ],
   "source": [
    "mycursor.execute(\"SELECT name FROM customers\")\n",
    "\n",
    "myresult = mycursor.fetchall()\n",
    "\n",
    "for x in myresult:\n",
    "  print(x)"
   ]
  },
  {
   "cell_type": "code",
   "execution_count": 17,
   "id": "f7f8230b",
   "metadata": {},
   "outputs": [
    {
     "name": "stdout",
     "output_type": "stream",
     "text": [
      "('John',)\n"
     ]
    }
   ],
   "source": [
    "# If you are only interested in one row, you can use the fetchone() method.\n",
    "\n",
    "# The fetchone() method will return the first row of the result:\n",
    "\n",
    "mycursor.execute(\"SELECT name FROM customers\")\n",
    "myresult = mycursor.fetchone()\n",
    "\n",
    "print(myresult)"
   ]
  },
  {
   "cell_type": "code",
   "execution_count": 18,
   "id": "266da5de",
   "metadata": {},
   "outputs": [
    {
     "name": "stdout",
     "output_type": "stream",
     "text": [
      "('John', 'Highway 21')\n",
      "('Susan', 'One way 98')\n",
      "('Viola', 'Sideway 1633')\n",
      "('John', 'Highway 21')\n",
      "('Susan', 'One way 98')\n",
      "('Viola', 'Sideway 1633')\n"
     ]
    }
   ],
   "source": [
    "sql =\"SELECT * FROM customers WHERE address LIKE '%way%'\"\n",
    "\n",
    "mycursor.execute(sql)\n",
    "\n",
    "myresult = mycursor.fetchall()\n",
    "\n",
    "for x in myresult:\n",
    "  print(x)"
   ]
  },
  {
   "cell_type": "code",
   "execution_count": 19,
   "id": "00b2a567",
   "metadata": {},
   "outputs": [],
   "source": [
    "\n",
    "sql = \"SELECT * FROM customers ORDER BY name\"\n",
    "\n",
    "sql = \"SELECT * FROM customers ORDER BY name DESC\""
   ]
  },
  {
   "cell_type": "code",
   "execution_count": 22,
   "id": "2d96cfaf",
   "metadata": {},
   "outputs": [],
   "source": [
    "\n",
    "sql = \"DELETE FROM customers WHERE address = 'Mountain 21'\"\n",
    "\n",
    "mycursor.execute(sql)\n",
    "\n",
    "mydb.commit()"
   ]
  },
  {
   "cell_type": "code",
   "execution_count": 23,
   "id": "533c3ae4",
   "metadata": {},
   "outputs": [],
   "source": [
    "# mydb.commit(). It is required to make the changes, otherwise no changes are made to the table.\n",
    "\n",
    "# Notice the WHERE clause in the DELETE syntax:\n",
    "#     The WHERE clause specifies which record(s) that should be deleted. \n",
    "#     If you omit the WHERE clause, all records will be deleted!"
   ]
  },
  {
   "cell_type": "code",
   "execution_count": null,
   "id": "860a98b6",
   "metadata": {},
   "outputs": [],
   "source": [
    "\n",
    "sql = \"DELETE FROM customers WHERE address = %s\"\n",
    "adr = (\"Yellow Garden 2\", )\n",
    "\n",
    "mycursor.execute(sql, adr)\n",
    "\n",
    "mydb.commit()"
   ]
  },
  {
   "cell_type": "code",
   "execution_count": null,
   "id": "cd946f81",
   "metadata": {},
   "outputs": [],
   "source": [
    "\n",
    "sql = \"DROP TABLE customers\"\n",
    "\n",
    "mycursor.execute(sql)"
   ]
  },
  {
   "cell_type": "code",
   "execution_count": null,
   "id": "75a7ab63",
   "metadata": {},
   "outputs": [],
   "source": [
    "If the table you want to delete is already deleted, or for any other reason does not exist, you can use the IF EXISTS keyword to avoid getting an error.\n",
    "sql = \"DROP TABLE IF EXISTS customers\"\n",
    "\n",
    "mycursor.execute(sql)"
   ]
  },
  {
   "cell_type": "code",
   "execution_count": 24,
   "id": "48cb5208",
   "metadata": {},
   "outputs": [
    {
     "name": "stdout",
     "output_type": "stream",
     "text": [
      "2 record(s) affected\n"
     ]
    }
   ],
   "source": [
    "\n",
    "sql = \"UPDATE customers SET address = 'Canyon 123' WHERE address = 'Valley 345'\"\n",
    "\n",
    "mycursor.execute(sql)\n",
    "\n",
    "mydb.commit()\n",
    "\n",
    "print(mycursor.rowcount, \"record(s) affected\")"
   ]
  },
  {
   "cell_type": "code",
   "execution_count": 25,
   "id": "ccfeaa96",
   "metadata": {},
   "outputs": [],
   "source": [
    "\n",
    "sql = \"UPDATE customers SET address = %s WHERE address = %s\"\n",
    "val = (\"Valley 345\", \"Canyon 123\")\n",
    "\n",
    "mycursor.execute(sql, val)\n",
    "\n",
    "mydb.commit()"
   ]
  },
  {
   "cell_type": "code",
   "execution_count": 27,
   "id": "c7b466bb",
   "metadata": {},
   "outputs": [
    {
     "name": "stdout",
     "output_type": "stream",
     "text": [
      "('John', 'Highway 21')\n",
      "('Peter', 'Lowstreet 4')\n",
      "('Amy', 'Apple st 652')\n",
      "('Michael', 'Valley 345')\n",
      "('Sandy', 'Ocean blvd 2')\n"
     ]
    }
   ],
   "source": [
    "\n",
    "mycursor.execute(\"SELECT * FROM customers LIMIT 5\")\n",
    "\n",
    "myresult = mycursor.fetchall()\n",
    "for x in myresult:\n",
    "  print(x)"
   ]
  },
  {
   "cell_type": "code",
   "execution_count": null,
   "id": "e37763fd",
   "metadata": {},
   "outputs": [],
   "source": []
  }
 ],
 "metadata": {
  "kernelspec": {
   "display_name": "Python 3 (ipykernel)",
   "language": "python",
   "name": "python3"
  },
  "language_info": {
   "codemirror_mode": {
    "name": "ipython",
    "version": 3
   },
   "file_extension": ".py",
   "mimetype": "text/x-python",
   "name": "python",
   "nbconvert_exporter": "python",
   "pygments_lexer": "ipython3",
   "version": "3.9.7"
  }
 },
 "nbformat": 4,
 "nbformat_minor": 5
}
